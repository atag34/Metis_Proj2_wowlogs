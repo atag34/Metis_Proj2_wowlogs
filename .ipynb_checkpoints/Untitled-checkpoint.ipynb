{
 "cells": [
  {
   "cell_type": "code",
   "execution_count": 1,
   "metadata": {},
   "outputs": [],
   "source": [
    "from bs4 import BeautifulSoup\n",
    "import requests\n",
    "import pandas as pd\n",
    "import re\n",
    "from collections import Counter\n",
    "import random\n",
    "import time\n",
    "import numpy as np\n",
    "import math\n",
    "from selenium import webdriver\n",
    "import matplotlib.pyplot as plt\n",
    "import seaborn as sns\n",
    "import statsmodels.api as sm\n",
    "from sklearn.preprocessing import PolynomialFeatures"
   ]
  },
  {
   "cell_type": "code",
   "execution_count": 3,
   "metadata": {},
   "outputs": [],
   "source": [
    "#read in pickle file of warcraft logs data.\n",
    "df = pd.read_pickle('wowlogs_data_v2.pkl')"
   ]
  },
  {
   "cell_type": "code",
   "execution_count": 30,
   "metadata": {},
   "outputs": [],
   "source": [
    "url = 'https://classic.warcraftlogs.com/user/reports-list/1142478/?zone=1001&boss=0&difficulty=0&class=Any&spec=Any&keystone=0&kills=0&duration=0'\n",
    "response = requests.get(url)\n",
    "page = response.text"
   ]
  },
  {
   "cell_type": "code",
   "execution_count": 72,
   "metadata": {},
   "outputs": [],
   "source": [
    "soup = BeautifulSoup(page,\"lxml\")\n",
    "table=soup.find(\"table\",{\"id\":\"reports-table\"})\n",
    "rows = [row for row in table.find_all('tr')]"
   ]
  },
  {
   "cell_type": "code",
   "execution_count": 81,
   "metadata": {},
   "outputs": [],
   "source": [
    "times=[]\n",
    "for i in rows:\n",
    "    times.append(int(i.find_all('td')[3].text.split('$')[0]))"
   ]
  },
  {
   "cell_type": "code",
   "execution_count": 89,
   "metadata": {},
   "outputs": [
    {
     "data": {
      "text/plain": [
       "545.258"
      ]
     },
     "execution_count": 89,
     "metadata": {},
     "output_type": "execute_result"
    }
   ],
   "source": []
  },
  {
   "cell_type": "code",
   "execution_count": 49,
   "metadata": {},
   "outputs": [
    {
     "data": {
      "text/plain": [
       "5"
      ]
     },
     "execution_count": 49,
     "metadata": {},
     "output_type": "execute_result"
    }
   ],
   "source": [
    "len(rows)"
   ]
  },
  {
   "cell_type": "code",
   "execution_count": 8,
   "metadata": {},
   "outputs": [],
   "source": [
    "\n",
    "# Start up remote window\n",
    "from selenium import webdriver\n",
    "driver = webdriver.Firefox(executable_path=r'C:/Users/atag3/Desktop/NYC DSA Python EDA/Untitled Folder/geckodriver.exe')\n",
    "driver.get('https://classic.warcraftlogs.com/reports/fHqzkhmX91c8FdxP')"
   ]
  },
  {
   "cell_type": "code",
   "execution_count": 23,
   "metadata": {},
   "outputs": [],
   "source": [
    "\n",
    "p_element.click()"
   ]
  },
  {
   "cell_type": "code",
   "execution_count": 24,
   "metadata": {},
   "outputs": [
    {
     "data": {
      "text/plain": [
       "'https://classic.warcraftlogs.com/guild/reports-list/515581/'"
      ]
     },
     "execution_count": 24,
     "metadata": {},
     "output_type": "execute_result"
    }
   ],
   "source": [
    "driver.find_elements_by_class_name('sidebar-line-option')[1].get_attribute('href')"
   ]
  },
  {
   "cell_type": "code",
   "execution_count": 4,
   "metadata": {},
   "outputs": [],
   "source": [
    "link_list = df.index.tolist()"
   ]
  },
  {
   "cell_type": "code",
   "execution_count": 157,
   "metadata": {},
   "outputs": [
    {
     "data": {
      "text/plain": [
       "1400"
      ]
     },
     "execution_count": 157,
     "metadata": {},
     "output_type": "execute_result"
    }
   ],
   "source": [
    "counter_place"
   ]
  },
  {
   "cell_type": "code",
   "execution_count": 109,
   "metadata": {},
   "outputs": [
    {
     "data": {
      "text/plain": [
       "<Response [200]>"
      ]
     },
     "execution_count": 109,
     "metadata": {},
     "output_type": "execute_result"
    }
   ],
   "source": [
    "requests.get(g_link+'?zone=1001&boss=0&difficulty=0&class=Any&spec=Any&keystone=0&kills=0&duration=0')"
   ]
  },
  {
   "cell_type": "code",
   "execution_count": null,
   "metadata": {},
   "outputs": [],
   "source": [
    "time_dict = {}\n",
    "ony_params = '?zone=1001&boss=0&difficulty=0&class=Any&spec=Any&keystone=0&kills=0&duration=0'\n",
    "counter = 0\n",
    "sub_counter = 0\n",
    "\n",
    "for links in link_list:\n",
    "    try:\n",
    "        driver.get('https://classic.warcraftlogs.com'+links)\n",
    "        p_element = driver.find_element_by_id('guild-reports-text')\n",
    "        p_element.click()\n",
    "\n",
    "        elements = driver.find_elements_by_class_name('sidebar-line-option')\n",
    "        for l in elements:\n",
    "            if l.text == 'Reports':\n",
    "                g_link = l.get_attribute('href')\n",
    "            else:\n",
    "                pass\n",
    "\n",
    "        response = requests.get(g_link+ony_params)\n",
    "        page = response.text\n",
    "        soup = BeautifulSoup(page,\"lxml\")\n",
    "        table=soup.find(\"table\",{\"id\":\"reports-table\"})\n",
    "        rows = [row for row in table.find_all('tr')]\n",
    "\n",
    "        times=[]\n",
    "        for i in rows:\n",
    "            times.append(int(i.find_all('td')[3].text.split('$')[0]))\n",
    "\n",
    "        med_time = np.median(times)/1000\n",
    "        attempts = len(rows)\n",
    "\n",
    "        time_dict[links] = {'med_time':med_time,\n",
    "                            'attemmpts':attempts}\n",
    "        counter += 1\n",
    "        sub_counter += 1\n",
    "        time.sleep(1.5)\n",
    "            \n",
    "        if sub_counter >=100:\n",
    "            driver.quit()\n",
    "            # Start up remote window\n",
    "            driver = webdriver.Firefox(executable_path=r'C:/Users/atag3/Desktop/NYC DSA Python EDA/Untitled Folder/geckodriver.exe')\n",
    "            driver.get('https://classic.warcraftlogs.com/reports/b2tKdk1xmj7pw43z')\n",
    "\n",
    "            # we have to click through the first message accepting cookies. this should only nee to be done once.\n",
    "            butt = driver.find_elements_by_xpath('/html/body/div[2]/div/div/div/div[2]/div/button[3]')\n",
    "            butt[0].click()\n",
    "            print(\"reset browser\")\n",
    "            sub_counter=0\n",
    "\n",
    "    except Exception:\n",
    "        print(\"oh no an exception\")\n",
    "        continue\n",
    "\n",
    "        "
   ]
  },
  {
   "cell_type": "code",
   "execution_count": 14,
   "metadata": {},
   "outputs": [],
   "source": [
    "response = requests.get(g_link+ony_params)\n",
    "page = response.text\n",
    "soup = BeautifulSoup(page,\"lxml\")\n",
    "table=soup.find(\"table\",{\"id\":\"reports-table\"})\n",
    "rows = [row for row in table.find_all('tr')]"
   ]
  },
  {
   "cell_type": "code",
   "execution_count": 17,
   "metadata": {},
   "outputs": [],
   "source": [
    "times=[]\n",
    "for i in rows:\n",
    "    times.append(int(i.find_all('td')[3].text.split('$')[0]))"
   ]
  },
  {
   "cell_type": "code",
   "execution_count": 20,
   "metadata": {},
   "outputs": [],
   "source": [
    "med_time = np.median(times)/1000\n",
    "attempts = len(rows)"
   ]
  },
  {
   "cell_type": "code",
   "execution_count": 25,
   "metadata": {},
   "outputs": [
    {
     "data": {
      "text/plain": [
       "{'/reports/MxaQhjFBfKpzZdT3': {'med_time': 1092.0345, 'attemmpts': 2},\n",
       " '/reports/qV9ZMjHY6zCXhnpL': {'med_time': 99815.589, 'attemmpts': 3},\n",
       " '/reports/zaNjRpB8ZwJfQyPY': {'med_time': 2766.801, 'attemmpts': 5},\n",
       " '/reports/JM7mN1VTtBhRvc8b': {'med_time': 2128.122, 'attemmpts': 1},\n",
       " '/reports/dk42VJZgQ8Ajt7GR': {'med_time': 2128.122, 'attemmpts': 1}}"
      ]
     },
     "execution_count": 25,
     "metadata": {},
     "output_type": "execute_result"
    }
   ],
   "source": [
    "time_dict"
   ]
  },
  {
   "cell_type": "code",
   "execution_count": 151,
   "metadata": {},
   "outputs": [
    {
     "data": {
      "text/plain": [
       "'https://classic.warcraftlogs.com/user/reports-list/1178308/'"
      ]
     },
     "execution_count": 151,
     "metadata": {},
     "output_type": "execute_result"
    }
   ],
   "source": [
    "for l in elements:\n",
    "    if l.text == 'Reports':\n",
    "        g_link = l.get_attribute('href')\n",
    "    else:\n",
    "        pass"
   ]
  }
 ],
 "metadata": {
  "kernelspec": {
   "display_name": "Python 3",
   "language": "python",
   "name": "python3"
  },
  "language_info": {
   "codemirror_mode": {
    "name": "ipython",
    "version": 3
   },
   "file_extension": ".py",
   "mimetype": "text/x-python",
   "name": "python",
   "nbconvert_exporter": "python",
   "pygments_lexer": "ipython3",
   "version": "3.7.6"
  }
 },
 "nbformat": 4,
 "nbformat_minor": 4
}
